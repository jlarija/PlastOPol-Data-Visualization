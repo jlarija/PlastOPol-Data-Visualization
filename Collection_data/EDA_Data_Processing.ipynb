{
 "cells": [
  {
   "cell_type": "code",
   "execution_count": 5,
   "metadata": {},
   "outputs": [],
   "source": [
    "import pandas as pd\n",
    "import numpy as np\n",
    "\n",
    "pd.set_option('display.max_rows', None)\n",
    "pd.set_option('display.max_columns', None)\n",
    "pd.set_option('display.width', None)\n",
    "\n",
    "rydde_data = pd.read_csv(\"rydde_data/history_data_5_cates.csv\")"
   ]
  },
  {
   "cell_type": "code",
   "execution_count": 11,
   "metadata": {},
   "outputs": [
    {
     "data": {
      "text/plain": [
       "array(['id', 'name', 'organisation', 'startdate', 'enddate',\n",
       "       'number_of_participants', 'number_of_waste_bags',\n",
       "       'kg_of_collected_waste', 'handout_gloves', 'handout_wastebags',\n",
       "       'municipality', 'county', 'municipality_name', 'county_name',\n",
       "       'meters_cleaned_beach', 'teiner', 'oljefat', 'geom_wkt',\n",
       "       'personal_use', 'fisheries', 'industrial', 'hygiene', 'others',\n",
       "       'created_at', 'created_by', 'updated_at', 'updated_by'],\n",
       "      dtype=object)"
      ]
     },
     "execution_count": 11,
     "metadata": {},
     "output_type": "execute_result"
    }
   ],
   "source": [
    "rydde_data.columns.values"
   ]
  },
  {
   "cell_type": "code",
   "execution_count": 19,
   "metadata": {},
   "outputs": [
    {
     "data": {
      "text/plain": [
       "array([2016., 2017., 2018., 2015., 2019., 2020., 2013., 2014.,   nan,\n",
       "       2021.])"
      ]
     },
     "execution_count": 19,
     "metadata": {},
     "output_type": "execute_result"
    }
   ],
   "source": [
    "rydde_data.startdate.dt.year.unique()"
   ]
  },
  {
   "cell_type": "code",
   "execution_count": 21,
   "metadata": {},
   "outputs": [],
   "source": [
    "rydde_monthly =  rydde_data.copy()\n",
    "rydde_monthly['month'] = rydde_monthly['startdate'].dt.to_period('M')\n",
    "rydde_monthly = rydde_monthly.groupby(['month']).sum().reset_index()\n",
    "rydde_monthly['CUMSUM'] = rydde_monthly['kg_of_collected_waste'].cumsum()\n",
    "rydde_monthly_final = pd.DataFrame(data={'cumsum':rydde_monthly['CUMSUM'], 'month':rydde_monthly['month']})"
   ]
  },
  {
   "cell_type": "code",
   "execution_count": 25,
   "metadata": {},
   "outputs": [],
   "source": [
    "rydde_monthly.to_csv('processed_data_8102023/NEW_MonthCumSum.csv', index=False)\n"
   ]
  },
  {
   "cell_type": "code",
   "execution_count": 27,
   "metadata": {},
   "outputs": [],
   "source": [
    "rydde_municipality = rydde_data.copy()\n",
    "rydde_municipality = rydde_municipality.groupby([\"county_name\"]).sum().reset_index()\n",
    "rydde_municipality.to_csv('processed_data_8102023/NEW_County.csv')"
   ]
  },
  {
   "cell_type": "code",
   "execution_count": 28,
   "metadata": {},
   "outputs": [],
   "source": [
    "total_involved_people = rydde_data['number_of_participants'].sum()\n",
    "total_bags_filled = rydde_data['number_of_waste_bags'].sum()\n",
    "total_kg = rydde_data['kg_of_collected_waste'].sum()\n",
    "\n",
    "rydde_totals = pd.DataFrame(data={'People': [total_involved_people], 'Bags':[total_bags_filled], 'Kg': [total_kg]})\n",
    "\n",
    "rydde_totals.to_csv('processed_data_8102023/NEW_Totals.csv')"
   ]
  },
  {
   "cell_type": "code",
   "execution_count": 29,
   "metadata": {},
   "outputs": [],
   "source": [
    "rydde_regional = rydde_data.copy()\n",
    "rydde_regional = rydde_regional.groupby([\"municipality_name\"]).sum().reset_index()\n"
   ]
  },
  {
   "cell_type": "code",
   "execution_count": 31,
   "metadata": {},
   "outputs": [],
   "source": [
    "percentage_df = pd.DataFrame({'Personal Use': [rydde_data.personal_use.sum()], 'Hygene': [rydde_data.hygiene.sum()], 'Fisheries': [rydde_data.fisheries.sum()], \\\n",
    "                              'Industry': [rydde_data.industrial.sum()], 'Others': [rydde_data.others.sum()]})\n"
   ]
  },
  {
   "cell_type": "code",
   "execution_count": 33,
   "metadata": {},
   "outputs": [],
   "source": [
    "percentage_df.to_csv('processed_data_8102023/PercentageCategorySplit.csv', index=False)"
   ]
  }
 ],
 "metadata": {
  "kernelspec": {
   "display_name": "Python 3",
   "language": "python",
   "name": "python3"
  },
  "language_info": {
   "codemirror_mode": {
    "name": "ipython",
    "version": 3
   },
   "file_extension": ".py",
   "mimetype": "text/x-python",
   "name": "python",
   "nbconvert_exporter": "python",
   "pygments_lexer": "ipython3",
   "version": "3.9.6"
  }
 },
 "nbformat": 4,
 "nbformat_minor": 2
}
